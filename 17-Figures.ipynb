{
 "cells": [
  {
   "cell_type": "markdown",
   "metadata": {},
   "source": [
    "<!--BOOK_INFORMATION-->\n",
    "<img align=\"left\" style=\"padding-right:10px;\" src=\"fig/cover-small.jpg\">\n",
    "*This notebook contains an excerpt from the [Whirlwind Tour of Python](http://www.oreilly.com/programming/free/a-whirlwind-tour-of-python.csp) by Jake VanderPlas; the content is available [on GitHub](https://github.com/jakevdp/WhirlwindTourOfPython).*\n",
    "\n",
    "*The text and code are released under the [CC0](https://github.com/jakevdp/WhirlwindTourOfPython/blob/master/LICENSE) license; see also the companion project, the [Python Data Science Handbook](https://github.com/jakevdp/PythonDataScienceHandbook).*\n"
   ]
  },
  {
   "cell_type": "markdown",
   "metadata": {},
   "source": [
    "<!--NAVIGATION-->\n",
    "< [Resources for Further Learning](16-Further-Resources.ipynb) | [Contents](Index.ipynb) |"
   ]
  },
  {
   "cell_type": "markdown",
   "metadata": {},
   "source": [
    "# Appendix: Figure Code"
   ]
  },
  {
   "cell_type": "markdown",
   "metadata": {},
   "source": [
    "This section contains code used to generate figures that appear in this report."
   ]
  },
  {
   "cell_type": "code",
   "execution_count": 1,
   "metadata": {
    "tags": []
   },
   "outputs": [],
   "source": [
    "# %matplotlib inline\n",
    "import matplotlib.pyplot as plt"
   ]
  },
  {
   "cell_type": "code",
   "execution_count": 2,
   "metadata": {
    "tags": []
   },
   "outputs": [],
   "source": [
    "import os\n",
    "\n",
    "if not os.path.exists(\"fig\"):\n",
    "    os.makedirs(\"fig\")"
   ]
  },
  {
   "cell_type": "markdown",
   "metadata": {},
   "source": [
    "## Section 6: List Indexing\n",
    "\n",
    "This figure helps visualize how Python's indexing works."
   ]
  },
  {
   "cell_type": "code",
   "execution_count": 3,
   "metadata": {
    "collapsed": false,
    "jupyter": {
     "outputs_hidden": false
    }
   },
   "outputs": [
    {
     "data": {
      "image/png": "[encoded data removed]",
      "text/plain": [
       "<Figure size 720x288 with 1 Axes>"
      ]
     },
     "metadata": {},
     "output_type": "display_data"
    }
   ],
   "source": [
    "L = [2, 3, 5, 7, 11]\n",
    "\n",
    "fig = plt.figure(figsize=(10, 4))\n",
    "ax = fig.add_axes([0, 0, 1, 1], xticks=[], yticks=[], frameon=False, aspect=\"equal\")\n",
    "\n",
    "for i in range(5):\n",
    "    ax.add_patch(plt.Rectangle([i - 0.5, -0.5], 1, 1, fc=\"none\", ec=\"black\"))\n",
    "    ax.text(i, -0.05, L[i], size=100, ha=\"center\", va=\"center\", family=\"monospace\")\n",
    "\n",
    "for i in range(6):\n",
    "    ax.text(\n",
    "        i - 0.5, 0.55, str(i), size=20, ha=\"center\", va=\"bottom\", family=\"monospace\"\n",
    "    )\n",
    "\n",
    "for i in range(5):\n",
    "    ax.text(\n",
    "        i - 0.5, -0.58, str(-5 + i), size=20, ha=\"center\", va=\"top\", family=\"monospace\"\n",
    "    )\n",
    "\n",
    "ax.axis([-0.7, 4.7, -0.7, 0.7])\n",
    "\n",
    "fig.savefig(\"fig/list-indexing.png\");"
   ]
  },
  {
   "cell_type": "markdown",
   "metadata": {},
   "source": [
    "<!--NAVIGATION-->\n",
    "< [Resources for Further Learning](16-Further-Resources.ipynb) | [Contents](Index.ipynb) |"
   ]
  }
 ],
 "metadata": {
  "anaconda-cloud": {},
  "kernelspec": {
   "display_name": "Python [conda env:py3k]",
   "language": "python",
   "name": "conda-env-py3k-py"
  },
  "language_info": {
   "codemirror_mode": {
    "name": "ipython",
    "version": 3
   },
   "file_extension": ".py",
   "mimetype": "text/x-python",
   "name": "python",
   "nbconvert_exporter": "python",
   "pygments_lexer": "ipython3",
   "version": "3.8.8"
  }
 },
 "nbformat": 4,
 "nbformat_minor": 4
}
